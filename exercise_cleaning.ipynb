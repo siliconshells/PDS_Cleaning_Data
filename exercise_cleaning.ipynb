{
    "cells": [
        {
            "cell_type": "markdown",
            "metadata": {},
            "source": [
                "# Cleaning Data Exercises\n",
                "\n",
                "In this exercise, we'll be returning to the American Community Survey data we used previously to measuring racial income inequality in the United States. In today's exercise, we'll be using it to measure the returns to education and how those returns vary by race and gender.\n",
                "\n"
            ]
        },
        {
            "cell_type": "markdown",
            "metadata": {},
            "source": [
                "\n",
                "## Gradescope Autograding\n",
                "\n",
                "Please follow [all standard guidance](https://www.practicaldatascience.org/html/autograder_guidelines.html) for submitting this assignment to the Gradescope autograder, including storing your solutions in a dictionary called `results` and ensuring your notebook runs from the start to completion without any errors.\n",
                "\n",
                "For this assignment, please name your file `exercise_cleaning.ipynb` before uploading.\n",
                "\n",
                "You can check that you have answers for all questions in your `results` dictionary with this code:\n",
                "\n",
                "```python\n",
                "assert set(results.keys()) == {\n",
                "    \"ex5_age_young\",\n",
                "    \"ex5_age_old\",\n",
                "    \"ex7_avg_age\",\n",
                "    \"ex8_avg_age\",\n",
                "    \"ex9_num_college\",\n",
                "    \"ex11_share_male_w_degrees\",\n",
                "    \"ex11_share_female_w_degrees\",\n",
                "    \"ex12_comparing\",\n",
                "}\n",
                "```\n",
                "\n",
                "\n",
                "### Submission Limits\n",
                "\n",
                "Please remember that you are **only allowed three submissions to the autograder.** Your last submission (if you submit 3 or fewer times), or your third submission (if you submit more than 3 times) will determine your grade Submissions that error out will **not** count against this total."
            ]
        },
        {
            "cell_type": "markdown",
            "metadata": {},
            "source": [
                "## Exercises\n",
                "\n",
                "### Exercise 1\n",
                "\n",
                "For these cleaning exercises, we'll return to the ACS data we've used before one last time. We'll be working with `US_ACS_2017_10pct_sample.dta`. Import the data (please use url for the autograder)."
            ]
        },
        {
            "cell_type": "code",
            "execution_count": 21,
            "metadata": {},
            "outputs": [],
            "source": [
                "import pandas as pd\n",
                "import numpy as np\n",
                "\n",
                "results = {}\n",
                "\n",
                "acs = pd.read_stata(\n",
                "    \"https://github.com/nickeubank/MIDS_Data/raw/refs/heads/master/US_AmericanCommunitySurvey/US_ACS_2017_10pct_sample.dta\"\n",
                ")\n",
                "\n",
                "pd.set_option(\"mode.copy_on_write\", True)"
            ]
        },
        {
            "cell_type": "markdown",
            "metadata": {},
            "source": [
                "### Exercise 2\n",
                "\n",
                "For our exercises today, we'll focus on `age`, `sex`, `educ` (education), and `inctot` (total income). Subset your data to those variables, and quickly look at a sample of 10 rows."
            ]
        },
        {
            "cell_type": "code",
            "execution_count": 22,
            "metadata": {},
            "outputs": [
                {
                    "data": {
                        "text/html": [
                            "<div>\n",
                            "<style scoped>\n",
                            "    .dataframe tbody tr th:only-of-type {\n",
                            "        vertical-align: middle;\n",
                            "    }\n",
                            "\n",
                            "    .dataframe tbody tr th {\n",
                            "        vertical-align: top;\n",
                            "    }\n",
                            "\n",
                            "    .dataframe thead th {\n",
                            "        text-align: right;\n",
                            "    }\n",
                            "</style>\n",
                            "<table border=\"1\" class=\"dataframe\">\n",
                            "  <thead>\n",
                            "    <tr style=\"text-align: right;\">\n",
                            "      <th></th>\n",
                            "      <th>age</th>\n",
                            "      <th>sex</th>\n",
                            "      <th>educ</th>\n",
                            "      <th>inctot</th>\n",
                            "    </tr>\n",
                            "  </thead>\n",
                            "  <tbody>\n",
                            "    <tr>\n",
                            "      <th>247761</th>\n",
                            "      <td>72</td>\n",
                            "      <td>female</td>\n",
                            "      <td>1 year of college</td>\n",
                            "      <td>41900</td>\n",
                            "    </tr>\n",
                            "    <tr>\n",
                            "      <th>28892</th>\n",
                            "      <td>65</td>\n",
                            "      <td>female</td>\n",
                            "      <td>2 years of college</td>\n",
                            "      <td>38200</td>\n",
                            "    </tr>\n",
                            "    <tr>\n",
                            "      <th>285598</th>\n",
                            "      <td>17</td>\n",
                            "      <td>female</td>\n",
                            "      <td>grade 11</td>\n",
                            "      <td>0</td>\n",
                            "    </tr>\n",
                            "    <tr>\n",
                            "      <th>116494</th>\n",
                            "      <td>55</td>\n",
                            "      <td>male</td>\n",
                            "      <td>5+ years of college</td>\n",
                            "      <td>171000</td>\n",
                            "    </tr>\n",
                            "    <tr>\n",
                            "      <th>135335</th>\n",
                            "      <td>74</td>\n",
                            "      <td>female</td>\n",
                            "      <td>grade 12</td>\n",
                            "      <td>2500</td>\n",
                            "    </tr>\n",
                            "    <tr>\n",
                            "      <th>126573</th>\n",
                            "      <td>34</td>\n",
                            "      <td>male</td>\n",
                            "      <td>grade 12</td>\n",
                            "      <td>72000</td>\n",
                            "    </tr>\n",
                            "    <tr>\n",
                            "      <th>198617</th>\n",
                            "      <td>38</td>\n",
                            "      <td>female</td>\n",
                            "      <td>5+ years of college</td>\n",
                            "      <td>398000</td>\n",
                            "    </tr>\n",
                            "    <tr>\n",
                            "      <th>300054</th>\n",
                            "      <td>51</td>\n",
                            "      <td>female</td>\n",
                            "      <td>4 years of college</td>\n",
                            "      <td>114500</td>\n",
                            "    </tr>\n",
                            "    <tr>\n",
                            "      <th>187858</th>\n",
                            "      <td>21</td>\n",
                            "      <td>male</td>\n",
                            "      <td>2 years of college</td>\n",
                            "      <td>12000</td>\n",
                            "    </tr>\n",
                            "    <tr>\n",
                            "      <th>212277</th>\n",
                            "      <td>43</td>\n",
                            "      <td>male</td>\n",
                            "      <td>4 years of college</td>\n",
                            "      <td>105000</td>\n",
                            "    </tr>\n",
                            "  </tbody>\n",
                            "</table>\n",
                            "</div>"
                        ],
                        "text/plain": [
                            "       age     sex                 educ  inctot\n",
                            "247761  72  female    1 year of college   41900\n",
                            "28892   65  female   2 years of college   38200\n",
                            "285598  17  female             grade 11       0\n",
                            "116494  55    male  5+ years of college  171000\n",
                            "135335  74  female             grade 12    2500\n",
                            "126573  34    male             grade 12   72000\n",
                            "198617  38  female  5+ years of college  398000\n",
                            "300054  51  female   4 years of college  114500\n",
                            "187858  21    male   2 years of college   12000\n",
                            "212277  43    male   4 years of college  105000"
                        ]
                    },
                    "execution_count": 22,
                    "metadata": {},
                    "output_type": "execute_result"
                }
            ],
            "source": [
                "acs = acs[[\"age\", \"sex\", \"educ\", \"inctot\"]]\n",
                "acs.sample(10)"
            ]
        },
        {
            "cell_type": "markdown",
            "metadata": {},
            "source": [
                "### Exercise 3\n",
                "\n",
                "As before, all the values of `9999999` have the potential to cause us real problems, so replace all the values of `inctot` that are `9999999` with `np.nan`. "
            ]
        },
        {
            "cell_type": "code",
            "execution_count": 23,
            "metadata": {},
            "outputs": [],
            "source": [
                "acs.loc[acs[\"inctot\"] == 9999999, \"inctot\"] = np.nan"
            ]
        },
        {
            "cell_type": "markdown",
            "metadata": {},
            "source": [
                "### Exercise 4\n",
                "\n",
                "Attempt to calculate the average age of people in our data. What do you get? Why are you getting that error?\n",
                "\n",
                "You *should* get an error in trying to answer this question, but **PLEASE LEAVE THE CODE THAT GENERATES THIS ERROR COMMENTED OUT SO YOUR NOTEBOOK WILL RUN IN THE AUTOGRADER**. \n",
                "\n",
                "Then talk about the error in a markdown cell."
            ]
        },
        {
            "cell_type": "code",
            "execution_count": 24,
            "metadata": {},
            "outputs": [],
            "source": [
                "# acs[\"age\"].mean()\n",
                "# acs[\"age\"].dtype"
            ]
        },
        {
            "cell_type": "markdown",
            "metadata": {},
            "source": [
                "> I got this error when I attempted to calculate the average age of people in our data:   \n",
                "> `TypeError: 'Categorical' with dtype category does not support reduction 'mean'`   \n",
                "> It turns out that the \"age\" column has a categorical data type and that doesn't support the mean function. Thus, calling the mean function on the column throws the error."
            ]
        },
        {
            "cell_type": "markdown",
            "metadata": {},
            "source": [
                "### Exercise 5\n",
                "\n",
                "We want to be able to calculate things using age, so we need it to be a numeric type. Check the current type of `age`, and look at all the values of `age` to figure out why it's categorical and not numeric. You should find two problematic categories. Store the values of these categories in `\"ex5_age_young\"` and `\"ex5_age_old\"` (once you find them, it should be clear which is which)."
            ]
        },
        {
            "cell_type": "code",
            "execution_count": 25,
            "metadata": {},
            "outputs": [
                {
                    "name": "stdout",
                    "output_type": "stream",
                    "text": [
                        "['less than 1 year old', '90 (90+ in 1980 and 1990)']\n",
                        "Categories (97, object): ['less than 1 year old' < '1' < '2' < '3' ... '93' < '94' < '95' < '96']\n",
                        "The two non-numeric values in the category are 'less than 1 year old' and '90 (90+ in 1980 and 1990)'.\n"
                    ]
                }
            ],
            "source": [
                "# print(acs_sub[\"age\"].cat.categories)\n",
                "print(acs.loc[~acs[\"age\"].str.isnumeric(), \"age\"].unique())\n",
                "results[\"ex5_age_young\"] = ex5_age_young = \"less than 1 year old\"\n",
                "results[\"ex5_age_old\"] = ex5_age_old = \"90 (90+ in 1980 and 1990)\"\n",
                "print(\n",
                "    f\"The two non-numeric values in the category are '{ex5_age_young}' and '{ex5_age_old}'.\"\n",
                ")"
            ]
        },
        {
            "cell_type": "markdown",
            "metadata": {},
            "source": [
                "### Exercise 6\n",
                "\n",
                "In order to convert `age` into a numeric variable, we need to replace those problematic entries with values that `pandas` can later convert into numbers. Pick appropriate substitutions for the existing values and replace the current values. \n",
                "\n",
                "**Hint 1:** Categorical variables act like strings, so you might want to use string methods! \n",
                "\n",
                "**Hint 2:** Remember that characters like parentheses, pluses, asterisks, etc. are special in Python strings, and you have to escape them if you want them to be interpreted literally!\n",
                "\n",
                "**Hint 3:** Because the US Census has been conducted regularly for hundreds of years but exactly how the census has been conducted have occasionally changed, variables are sometimes coded in a way that might be interpreted in different ways for different census years. For example, hypothetically, one might write `90 (90+ in 1980 and 1990)` if the Censuses conducted in 1980 and 1990 used to top-code age at 90 (any values *over* 90 were just coded as 90), but more recent Censuses no longer top-coded age and recorded ages over 90 as the respondents actual age."
            ]
        },
        {
            "cell_type": "code",
            "execution_count": 26,
            "metadata": {},
            "outputs": [],
            "source": [
                "# Interestingly on the surface, calling .cat on a categorical column is like getting extra functions for the column, not really accessing the category table\n",
                "acs[\"age\"] = acs[\"age\"].cat.rename_categories(\n",
                "    {\"less than 1 year old\": \"0\", \"90 (90+ in 1980 and 1990)\": \"90\"}\n",
                ")"
            ]
        },
        {
            "cell_type": "markdown",
            "metadata": {},
            "source": [
                "### Exercise 7\n",
                "\n",
                "Now convert age from a categorical to numeric. Calculate the average age amoung this group, and store it in `\"ex7_avg_age\"`."
            ]
        },
        {
            "cell_type": "code",
            "execution_count": 27,
            "metadata": {},
            "outputs": [
                {
                    "name": "stdout",
                    "output_type": "stream",
                    "text": [
                        "The average age is 41.3 years.\n"
                    ]
                }
            ],
            "source": [
                "acs[\"age\"] = acs[\"age\"].astype(int)\n",
                "results[\"ex7_avg_age\"] = ex7_avg_age = acs[\"age\"].mean()\n",
                "print(f\"The average age is {ex7_avg_age:.1f} years.\")"
            ]
        },
        {
            "cell_type": "markdown",
            "metadata": {},
            "source": [
                "### Exercise 8\n",
                "\n",
                "Let's now filter out anyone in our data whose age is less than 18. Note that before made `age` a numeric variable, we couldn't do this! Again, calculate the average age and this time store it in `\"ex8_avg_age\"`. \n",
                "\n",
                "Use this sample of people 18 and over for all subsequent exercises."
            ]
        },
        {
            "cell_type": "code",
            "execution_count": 28,
            "metadata": {},
            "outputs": [
                {
                    "name": "stdout",
                    "output_type": "stream",
                    "text": [
                        "The average age now is 49.8 years.\n"
                    ]
                }
            ],
            "source": [
                "acs = acs.loc[acs[\"age\"] >= 18]\n",
                "results[\"ex8_avg_age\"] = ex8_avg_age = acs[\"age\"].mean()\n",
                "print(f\"The average age now is {ex8_avg_age:.1f} years.\")"
            ]
        },
        {
            "cell_type": "markdown",
            "metadata": {},
            "source": [
                "### Exercise 9\n",
                "\n",
                "Create an indicator variable for whether each person has *at least* a college Bachelor's degree called `college_degree`. Use this variable to calculate the number of people in the dataset with a college degree. You may assume that to get a college degree you need to complete at least 4 years of college. Save the result as `\"ex9_num_college\"`."
            ]
        },
        {
            "cell_type": "code",
            "execution_count": 29,
            "metadata": {},
            "outputs": [
                {
                    "name": "stdout",
                    "output_type": "stream",
                    "text": [
                        "The number of people with a college degree are 77,013.\n"
                    ]
                }
            ],
            "source": [
                "# acs[\"educ\"].cat.categories\n",
                "college_degree = acs[\"educ\"].isin([\"4 years of college\", \"5+ years of college\"])\n",
                "acs[\"college_degree\"] = college_degree\n",
                "results[\"ex9_num_college\"] = ex9_num_college = len(acs.loc[acs[\"college_degree\"]])\n",
                "print(f\"The number of people with a college degree are {ex9_num_college:,.0f}.\")"
            ]
        },
        {
            "cell_type": "markdown",
            "metadata": {},
            "source": [
                "### Exercise 10\n",
                "\n",
                "Let's examine how the educational gender gap. Use `pd.crosstab` to create a cross-tabulation of `sex` and `college_degree`. `pd.crosstab` will give you the number of people who have each combination of `sex` and `college_degree` (so in this case, it will give us a 2x2 table with Male and Female as rows, and `college_degree` True and False as columns, or vice versa. "
            ]
        },
        {
            "cell_type": "code",
            "execution_count": 30,
            "metadata": {},
            "outputs": [
                {
                    "data": {
                        "text/html": [
                            "<div>\n",
                            "<style scoped>\n",
                            "    .dataframe tbody tr th:only-of-type {\n",
                            "        vertical-align: middle;\n",
                            "    }\n",
                            "\n",
                            "    .dataframe tbody tr th {\n",
                            "        vertical-align: top;\n",
                            "    }\n",
                            "\n",
                            "    .dataframe thead th {\n",
                            "        text-align: right;\n",
                            "    }\n",
                            "</style>\n",
                            "<table border=\"1\" class=\"dataframe\">\n",
                            "  <thead>\n",
                            "    <tr style=\"text-align: right;\">\n",
                            "      <th>college_degree</th>\n",
                            "      <th>False</th>\n",
                            "      <th>True</th>\n",
                            "    </tr>\n",
                            "    <tr>\n",
                            "      <th>sex</th>\n",
                            "      <th></th>\n",
                            "      <th></th>\n",
                            "    </tr>\n",
                            "  </thead>\n",
                            "  <tbody>\n",
                            "    <tr>\n",
                            "      <th>male</th>\n",
                            "      <td>85821</td>\n",
                            "      <td>36181</td>\n",
                            "    </tr>\n",
                            "    <tr>\n",
                            "      <th>female</th>\n",
                            "      <td>90200</td>\n",
                            "      <td>40832</td>\n",
                            "    </tr>\n",
                            "  </tbody>\n",
                            "</table>\n",
                            "</div>"
                        ],
                        "text/plain": [
                            "college_degree  False  True \n",
                            "sex                         \n",
                            "male            85821  36181\n",
                            "female          90200  40832"
                        ]
                    },
                    "execution_count": 30,
                    "metadata": {},
                    "output_type": "execute_result"
                }
            ],
            "source": [
                "acs_sex_degree = pd.crosstab(acs[\"sex\"], acs[\"college_degree\"])\n",
                "acs_sex_degree"
            ]
        },
        {
            "cell_type": "markdown",
            "metadata": {},
            "source": [
                "### Exercise 11\n",
                "\n",
                "Counts are kind of hard to interpret. `pd.crosstab` can also normalize values to give percentages. Look at the `pd.crosstab` help file to figure out how to normalize the values in the table. Normalize them so that you get the share of men with and without college degree, and the share of women with and without college degrees.\n",
                "\n",
                "Store the share (between 0 and 1) of men with college degrees in `\"ex11_share_male_w_degrees\"`, and the share of women with degrees in `\"ex11_share_female_w_degrees\"`."
            ]
        },
        {
            "cell_type": "code",
            "execution_count": 31,
            "metadata": {},
            "outputs": [
                {
                    "name": "stdout",
                    "output_type": "stream",
                    "text": [
                        "The share of men with college degree is 29.66%.\n",
                        "The share of women with college degree is 31.16%.\n"
                    ]
                },
                {
                    "data": {
                        "text/html": [
                            "<div>\n",
                            "<style scoped>\n",
                            "    .dataframe tbody tr th:only-of-type {\n",
                            "        vertical-align: middle;\n",
                            "    }\n",
                            "\n",
                            "    .dataframe tbody tr th {\n",
                            "        vertical-align: top;\n",
                            "    }\n",
                            "\n",
                            "    .dataframe thead th {\n",
                            "        text-align: right;\n",
                            "    }\n",
                            "</style>\n",
                            "<table border=\"1\" class=\"dataframe\">\n",
                            "  <thead>\n",
                            "    <tr style=\"text-align: right;\">\n",
                            "      <th>college_degree</th>\n",
                            "      <th>False</th>\n",
                            "      <th>True</th>\n",
                            "    </tr>\n",
                            "    <tr>\n",
                            "      <th>sex</th>\n",
                            "      <th></th>\n",
                            "      <th></th>\n",
                            "    </tr>\n",
                            "  </thead>\n",
                            "  <tbody>\n",
                            "    <tr>\n",
                            "      <th>male</th>\n",
                            "      <td>0.703439</td>\n",
                            "      <td>0.296561</td>\n",
                            "    </tr>\n",
                            "    <tr>\n",
                            "      <th>female</th>\n",
                            "      <td>0.688381</td>\n",
                            "      <td>0.311619</td>\n",
                            "    </tr>\n",
                            "  </tbody>\n",
                            "</table>\n",
                            "</div>"
                        ],
                        "text/plain": [
                            "college_degree     False     True \n",
                            "sex                               \n",
                            "male            0.703439  0.296561\n",
                            "female          0.688381  0.311619"
                        ]
                    },
                    "execution_count": 31,
                    "metadata": {},
                    "output_type": "execute_result"
                }
            ],
            "source": [
                "acs_sex_degree = pd.crosstab(acs[\"sex\"], acs[\"college_degree\"], normalize=\"index\")\n",
                "results[\"ex11_share_male_w_degrees\"] = ex11_share_male_w_degrees = acs_sex_degree.iloc[\n",
                "    0, 1\n",
                "]\n",
                "results[\"ex11_share_female_w_degrees\"] = ex11_share_female_w_degrees = (\n",
                "    acs_sex_degree.iloc[1, 1]\n",
                ")\n",
                "print(f\"The share of men with college degree is {ex11_share_male_w_degrees:.2%}.\")\n",
                "print(f\"The share of women with college degree is {ex11_share_female_w_degrees:.2%}.\")\n",
                "acs_sex_degree"
            ]
        },
        {
            "cell_type": "markdown",
            "metadata": {},
            "source": [
                "### Exercise 12\n",
                "\n",
                "Now, let's recreate that table for people who are 40 and over and people under 40. Over time, what does this suggest about the absolute difference in the share of men and women earning college degrees? Has it gotten larger, stayed the same, or gotten smaller? Store your answer (either `\"the absolute difference has increased\"` or `\"the absolute difference has decreased\"`) in `\"ex12_comparing\"`."
            ]
        },
        {
            "cell_type": "code",
            "execution_count": 37,
            "metadata": {},
            "outputs": [
                {
                    "name": "stdout",
                    "output_type": "stream",
                    "text": [
                        "For people 40 years and above, the share of men with college degree is 48.56% and the share of women is 51.44%.\n",
                        "For people below 40 years, the share of men with college degree is 43.71% and the share of women is 56.29%.\n",
                        "Thus, the absolute difference has increased over time.\n",
                        "\n",
                        "--------People 40 years and above------------\n",
                        "college_degree     False     True \n",
                        "sex                               \n",
                        "male            0.465718  0.485587\n",
                        "female          0.534282  0.514413\n",
                        "\n",
                        "--------People under 40 years------------\n",
                        "college_degree     False     True \n",
                        "sex                               \n",
                        "male            0.530066  0.437058\n",
                        "female          0.469934  0.562942\n"
                    ]
                }
            ],
            "source": [
                "acs_over_40 = acs.loc[acs[\"age\"] >= 40]\n",
                "acs_under_40 = acs.loc[acs[\"age\"] < 40]\n",
                "acs_cross_over_40 = pd.crosstab(\n",
                "    acs_over_40[\"sex\"], acs_over_40[\"college_degree\"], normalize=\"columns\"\n",
                ")\n",
                "acs_cross_under_40 = pd.crosstab(\n",
                "    acs_under_40[\"sex\"], acs_under_40[\"college_degree\"], normalize=\"columns\"\n",
                ")\n",
                "print(\n",
                "    f\"For people 40 years and above, the share of men with college degree is {acs_cross_over_40.iloc[0,1]:.2%} and the share of women is {acs_cross_over_40.iloc[1,1]:.2%}.\"\n",
                ")\n",
                "print(\n",
                "    f\"For people below 40 years, the share of men with college degree is {acs_cross_under_40.iloc[0,1]:.2%} and the share of women is {acs_cross_under_40.iloc[1,1]:.2%}.\"\n",
                ")\n",
                "results[\"ex12_comparing\"] = ex12_comparing = \"the absolute difference has increased\"\n",
                "print(f\"Thus, {ex12_comparing} over time.\")\n",
                "print()\n",
                "print(\"--------People 40 years and above------------\")\n",
                "print(acs_cross_over_40)\n",
                "print()\n",
                "print(\"--------People under 40 years------------\")\n",
                "print(acs_cross_under_40)"
            ]
        },
        {
            "cell_type": "markdown",
            "metadata": {},
            "source": [
                "### Exercise 13\n",
                "\n",
                "In words, what is causing the change noted in Exercise 12 (i.e., looking at the tables above, tell me a story about Men and Women's College attainment)."
            ]
        },
        {
            "cell_type": "code",
            "execution_count": 49,
            "metadata": {},
            "outputs": [
                {
                    "name": "stdout",
                    "output_type": "stream",
                    "text": [
                        "Gender counts 40 and over\n",
                        "sex\n",
                        "female    88853\n",
                        "male      79383\n",
                        "Name: count, dtype: int64\n",
                        "\n",
                        "Gender counts under 40\n",
                        "sex\n",
                        "male      42619\n",
                        "female    42179\n",
                        "Name: count, dtype: int64\n",
                        "\n",
                        "Gender counts 40 and over attaining degree\n",
                        "college_degree  False  True \n",
                        "sex                         \n",
                        "male            54149  25234\n",
                        "female          62121  26732\n",
                        "\n",
                        "Gender counts under 40 attaining degree\n",
                        "college_degree  False  True \n",
                        "sex                         \n",
                        "male            31672  10947\n",
                        "female          28079  14100\n"
                    ]
                }
            ],
            "source": [
                "counts_over_40 = acs_over_40[\"sex\"].value_counts()\n",
                "print(\"Gender counts 40 and over\")\n",
                "print(counts_over_40)\n",
                "print()\n",
                "print(\"Gender counts under 40\")\n",
                "counts_under_40 = acs_under_40[\"sex\"].value_counts()\n",
                "print(counts_under_40)\n",
                "print()\n",
                "counts_acs_cross_over_40 = pd.crosstab(\n",
                "    acs_over_40[\"sex\"], acs_over_40[\"college_degree\"]\n",
                ")\n",
                "counts_acs_cross_under_40 = pd.crosstab(\n",
                "    acs_under_40[\"sex\"], acs_under_40[\"college_degree\"]\n",
                ")\n",
                "print(\"Gender counts 40 and over attaining degree\")\n",
                "print(counts_acs_cross_over_40)\n",
                "print()\n",
                "print(\"Gender counts under 40 attaining degree\")\n",
                "counts_under_40 = acs_under_40[\"sex\"].value_counts()\n",
                "print(counts_acs_cross_under_40)"
            ]
        },
        {
            "cell_type": "markdown",
            "metadata": {},
            "source": [
                "The difference between the _number of surveyed males and females under 40 years_ has reduced in recent years, in favor of males, compared to the difference in those above 40 years. Thus, the recent increase in the number of females attaining degree is not caused by an increased number of surveyed females. \n",
                "\n",
                "From exercise 12, 49% of males above 40 years attained college degree and 44% of males under 40 years attained college degree. This is a drop in the relative number of males attaining college degree by about 5%. However, 51% of females above 40 years attained college degree and 56% of females under 40 years attained college degree. This is an increase in the relative number of females attaining college degree by about 5%. Thus, the recent gap increase in the _number of males and females attaining college degree_, in favor of females, is caused by _fewer males and more females_ attaining college degree."
            ]
        },
        {
            "cell_type": "code",
            "execution_count": 33,
            "metadata": {},
            "outputs": [],
            "source": [
                "assert set(results.keys()) == {\n",
                "    \"ex5_age_young\",\n",
                "    \"ex5_age_old\",\n",
                "    \"ex7_avg_age\",\n",
                "    \"ex8_avg_age\",\n",
                "    \"ex9_num_college\",\n",
                "    \"ex11_share_male_w_degrees\",\n",
                "    \"ex11_share_female_w_degrees\",\n",
                "    \"ex12_comparing\",\n",
                "}"
            ]
        },
        {
            "cell_type": "markdown",
            "metadata": {},
            "source": [
                "## Want More Practice?\n",
                "\n",
                "Calculate the educational racial gap in the United States for White Americans, Black Americans, Hispanic Americans, and other groups. \n",
                "\n",
                "Note that to do these calculations, you'll have to deal with the fact that unlike most Americans, the American Census Bureau treats \"Hispanic\" not as a racial category, but a linguistic one. As a result, the racial category \"White\" in `race` actually includes most Hispanic Americans. For this analysis, we wish to work with the mutually exclusive categories of \"White, non-Hispanic\", \"White, Hispanic\", \"Black (Hispanic or non-Hispanic)\", and a category for everyone else. "
            ]
        }
    ],
    "metadata": {
        "kernelspec": {
            "display_name": "base",
            "language": "python",
            "name": "python3"
        },
        "language_info": {
            "codemirror_mode": {
                "name": "ipython",
                "version": 3
            },
            "file_extension": ".py",
            "mimetype": "text/x-python",
            "name": "python",
            "nbconvert_exporter": "python",
            "pygments_lexer": "ipython3",
            "version": "3.12.2"
        }
    },
    "nbformat": 4,
    "nbformat_minor": 4
}
